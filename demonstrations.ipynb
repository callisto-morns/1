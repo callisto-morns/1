{
 "cells": [
  {
   "cell_type": "markdown",
   "metadata": {},
   "source": [
    "# Case Studies"
   ]
  },
  {
   "cell_type": "markdown",
   "metadata": {},
   "source": [
    "# <small>9:45-10:15</small> Data exploration in Jupyter\n",
    "\n",
    "#### Christian McDaniel and Rajeswari Sivakumar\n",
    "\n",
    "Data exploration in a collaborative environment can be a cumbersome process. In our lab, headed by Dr. Shannon Quinn at the University of Georgia, the use of Jupyter Notebook has streamlined tasks such as data visualization, data preparation, calculations and the sharing of our results. As students, the user-friendly functionality and display of Jupyter Notebook has been instrumental in our ability to learn from each other’s findings. We will explore our use of Jupyter Notebook throughout our most recent research, conducted for the Parkinson’s Disease Digital Biomarker DREAM Challenge, a recent open challenge from Sage Bionetworks. The motivation for the challenge is derived from the effects of Parkinsonian motor symptoms on everyday motor activities. Task-related motion-sensor time series data was provided, and challenge participants were asked to use this data to extract meaningful features which indicate the presence and severity of Parkinsonian motor symptoms. "
   ]
  },
  {
   "cell_type": "markdown",
   "metadata": {},
   "source": [
    "# <small>10:15-10:45</small> Flight Data with Bokeh and Datashader\n",
    "\n",
    "#### [Luke Starnes](http://lstarnes.com/)\n",
    "\n",
    "This talk will discuss the growth of publicly available aircraft flight data due to the Automatic Dependent Surveillance – Broadcast (ADS-B) mandate. After providing some background, we will review a recent project which analyzed a large worldwide dataset consisting of over 7M reports per day. We will discuss the process used for cleaning, refactoring, and storing the data for quick access. This will include some pointers for those undertaking similar projects. Then we will discuss some of the interesting information we can learn from this data and review visualizations created with Datashader and Bokeh. The slides and code will be made available after the talk. "
   ]
  },
  {
   "cell_type": "markdown",
   "metadata": {},
   "source": [
    "# <small>10:45-11:15</small> Style Guides for Jupyter\n",
    "\n",
    "#### Tony Fast\n"
   ]
  },
  {
   "cell_type": "markdown",
   "metadata": {},
   "source": [
    "# Short Demonstrations"
   ]
  },
  {
   "cell_type": "markdown",
   "metadata": {},
   "source": [
    "# <small>11:30-11:55</small> Up and Running with Jupyter Lab\n",
    "\n",
    "Y'all have heard about JupyterLab.  This walk through will demonstrate the flexible use cases that the newest version of JupyterLab supports.\n",
    "\n",
    "    conda install -c conda-forge jupyterlab"
   ]
  },
  {
   "cell_type": "markdown",
   "metadata": {},
   "source": [
    "# <small>11:55-12:05</small> [SQL with Jupyter Notebooks](# )\n",
    "\n",
    "#### [Greg Werner](https://github.com/jgwerner)\n",
    "\n",
    "Many data analysts love SQL for data analysis, for good reason. SQL is a powerful language and is used by countless data analysts and data scientists alike. As some of these personas transition from analysts to data scientists (where the world is indeed gray), having a SQL editor within Jupyter Notebooks becomes a powerful proposition. Learn how to add open source SQL editors as extensions to Jupyter Notebooks with this talk. Source code will be available for all attendees."
   ]
  },
  {
   "cell_type": "markdown",
   "metadata": {},
   "source": [
    "# <small>12:05-12:20</small> [Dynamic Notebook Generation for Reports]()\n",
    "\n",
    "#### [Casey Hartnett](https://github.com/caseyhartnett)\n",
    "\n",
    "We will start by learning what makes a IPython Notebook. We will then take an example report for a hotel and create a new notebook to generate this report for any number of hotels. We can generate a single file with repeated analysis for different hotels or generate separate notebooks for each. Lastly, we will learn how to run this process from the command line to streamline reporting process further."
   ]
  }
 ],
 "metadata": {
  "kernelspec": {
   "display_name": "Python 3",
   "language": "python",
   "name": "python3"
  },
  "language_info": {
   "codemirror_mode": {
    "name": "ipython",
    "version": 3
   },
   "file_extension": ".py",
   "mimetype": "text/x-python",
   "name": "python",
   "nbconvert_exporter": "python",
   "pygments_lexer": "ipython3",
   "version": "3.5.3"
  }
 },
 "nbformat": 4,
 "nbformat_minor": 2
}
