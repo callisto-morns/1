{
 "cells": [
  {
   "cell_type": "code",
   "execution_count": 1,
   "metadata": {
    "collapsed": true
   },
   "outputs": [],
   "source": [
    "    %load_ext literacy\n",
    "    from pandas import *"
   ]
  },
  {
   "cell_type": "code",
   "execution_count": 10,
   "metadata": {
    "collapsed": true
   },
   "outputs": [
    {
     "data": {
      "text/markdown": [
       "\n",
       "![](https://user-images.githubusercontent.com/4236275/32387941-61eb6494-c09c-11e7-8e39-510689aab037.png)\n",
       "\n",
       "# [Atlanta Jupyter User Group Meeting](https://callisto-morns.github.io/) [One](https://callisto-morns.github.io/)\n",
       "\n",
       "## Saturday November 11, 2017 _@_ the Georgia Tech Research Institute\n",
       "\n",
       "__Atlanta Jupyter User Group Meeting__ is a satellite event orbitting the [Project Jupyter](https://jupyter.org).  At each __Atlanta Jupyter User Group Meeting__, Jupyter beginners and veterans will join to share their works.  These events will attract designers, developers, and scientists across the southeast region crafted with Project Jupyter tools.\n",
       "\n",
       "\n",
       "# [Purchase Tickets at Eventbrite for $5](https://www.eventbrite.com/e/callisto-morn-one-an-event-for-jupyter-users-tickets-39268778975)\n",
       "\n",
       "> *Tickets on the day of the event are $10*\n",
       "\n",
       "## [Submit a Talk or Demo](https://docs.google.com/forms/d/e/1FAIpQLSfY1c4y2vLE-q3VMBjOpvTi4pK5D6Q9KudNk25AsxQUjsT3eA/viewform)\n",
       "\n",
       "\n",
       "## [Github](https://github.com/callisto-morns/one) \n",
       "\n",
       "\n",
       "## [Questions?](https://github.com/callisto-morns/one/issues) \n",
       "\n",
       "[![Gitter chat](https://badges.gitter.im/callisto-one/Lobby.png)](https://gitter.im/callisto-one/Lobby)\n",
       "\n",
       "---\n"
      ],
      "text/plain": [
       "<IPython.core.display.Markdown object>"
      ]
     },
     "metadata": {},
     "output_type": "display_data"
    }
   ],
   "source": [
    "about.md"
   ]
  },
  {
   "cell_type": "code",
   "execution_count": 11,
   "metadata": {},
   "outputs": [
    {
     "data": {
      "text/markdown": [
       "# <small>9:00-9:10</small> Open Remarks\n",
       "\n",
       "* Goals of the Jupyter User Group\n",
       "* Code of Conduct"
      ],
      "text/plain": [
       "<IPython.core.display.Markdown object>"
      ]
     },
     "metadata": {},
     "output_type": "display_data"
    }
   ],
   "source": [
    "# <small>9:00-9:10</small> Open Remarks\n",
    "\n",
    "* Goals of the Jupyter User Group\n",
    "* Code of Conduct"
   ]
  },
  {
   "cell_type": "code",
   "execution_count": 12,
   "metadata": {},
   "outputs": [
    {
     "data": {
      "text/markdown": [
       "# <small>9:10-9:45</small> Panel Discussion\n"
      ],
      "text/plain": [
       "<IPython.core.display.Markdown object>"
      ]
     },
     "metadata": {},
     "output_type": "display_data"
    }
   ],
   "source": [
    "# <small>9:10-9:45</small> Panel Discussion\n",
    "\n"
   ]
  },
  {
   "cell_type": "code",
   "execution_count": 14,
   "metadata": {
    "collapsed": true
   },
   "outputs": [
    {
     "data": {
      "text/markdown": [
       "\n",
       "# Case Studies\n",
       "\n",
       "# <small>9:45-10:15</small> Data exploration in Jupyter\n",
       "\n",
       "#### Christian McDaniel and Rajeswari Sivakumar\n",
       "\n",
       "Data exploration in a collaborative environment can be a cumbersome process. In our lab, headed by Dr. Shannon Quinn at the University of Georgia, the use of Jupyter Notebook has streamlined tasks such as data visualization, data preparation, calculations and the sharing of our results. As students, the user-friendly functionality and display of Jupyter Notebook has been instrumental in our ability to learn from each other’s findings. We will explore our use of Jupyter Notebook throughout our most recent research, conducted for the Parkinson’s Disease Digital Biomarker DREAM Challenge, a recent open challenge from Sage Bionetworks. The motivation for the challenge is derived from the effects of Parkinsonian motor symptoms on everyday motor activities. Task-related motion-sensor time series data was provided, and challenge participants were asked to use this data to extract meaningful features which indicate the presence and severity of Parkinsonian motor symptoms. \n",
       "\n",
       "# <small>10:15-10:45</small> Flight Data with Bokeh and Datashader\n",
       "\n",
       "#### [Luke Starnes](http://lstarnes.com/)\n",
       "\n",
       "This talk will discuss the growth of publicly available aircraft flight data due to the Automatic Dependent Surveillance – Broadcast (ADS-B) mandate. After providing some background, we will review a recent project which analyzed a large worldwide dataset consisting of over 7M reports per day. We will discuss the process used for cleaning, refactoring, and storing the data for quick access. This will include some pointers for those undertaking similar projects. Then we will discuss some of the interesting information we can learn from this data and review visualizations created with Datashader and Bokeh. The slides and code will be made available after the talk. \n",
       "\n",
       "# <small>10:45-11:15</small> Style Guides for Jupyter\n",
       "\n",
       "#### Tony Fast\n",
       "\n",
       "\n",
       "# Short Demonstrations\n",
       "\n",
       "# <small>11:30-11:55</small> Up and Running with Jupyter Lab\n",
       "\n",
       "Y'all have heard about JupyterLab.  This walk through will demonstrate the flexible use cases that the newest version of JupyterLab supports.\n",
       "\n",
       "    conda install -c conda-forge jupyterlab\n",
       "\n",
       "# <small>11:55-12:05</small> [SQL with Jupyter Notebooks](# )\n",
       "\n",
       "#### [Greg Werner](https://github.com/jgwerner)\n",
       "\n",
       "Many data analysts love SQL for data analysis, for good reason. SQL is a powerful language and is used by countless data analysts and data scientists alike. As some of these personas transition from analysts to data scientists (where the world is indeed gray), having a SQL editor within Jupyter Notebooks becomes a powerful proposition. Learn how to add open source SQL editors as extensions to Jupyter Notebooks with this talk. Source code will be available for all attendees.\n",
       "\n",
       "# <small>12:05-12:20</small> [Dynamic Notebook Generation for Reports]()\n",
       "\n",
       "#### [Casey Hartnett](https://github.com/caseyhartnett)\n",
       "\n",
       "We will start by learning what makes a IPython Notebook. We will then take an example report for a hotel and create a new notebook to generate this report for any number of hotels. We can generate a single file with repeated analysis for different hotels or generate separate notebooks for each. Lastly, we will learn how to run this process from the command line to streamline reporting process further.\n"
      ],
      "text/plain": [
       "<IPython.core.display.Markdown object>"
      ]
     },
     "metadata": {},
     "output_type": "display_data"
    }
   ],
   "source": [
    "demonstrations.md"
   ]
  },
  {
   "cell_type": "markdown",
   "metadata": {},
   "source": [
    "# <small>12:20-12:40</small> Group Discussion\n"
   ]
  },
  {
   "cell_type": "markdown",
   "metadata": {},
   "source": [
    "# <small>12:40-12:55</small> Tiny Talks"
   ]
  },
  {
   "cell_type": "markdown",
   "metadata": {},
   "source": [
    "# <small>12:55-1:00</small> Closing"
   ]
  },
  {
   "cell_type": "markdown",
   "metadata": {},
   "source": [
    "---"
   ]
  },
  {
   "cell_type": "code",
   "execution_count": 15,
   "metadata": {
    "collapsed": true
   },
   "outputs": [
    {
     "data": {
      "text/markdown": [
       "# [Full Schedule](schedule.csv)\n",
       "\n",
       "    "
      ],
      "text/plain": [
       "<IPython.core.display.Markdown object>"
      ]
     },
     "metadata": {},
     "output_type": "display_data"
    }
   ],
   "source": [
    "# [Full Schedule](schedule.csv)\n",
    "\n",
    "    "
   ]
  },
  {
   "cell_type": "code",
   "execution_count": 16,
   "metadata": {
    "collapsed": true
   },
   "outputs": [
    {
     "data": {
      "text/html": [
       "<div>\n",
       "<style>\n",
       "    .dataframe thead tr:only-child th {\n",
       "        text-align: right;\n",
       "    }\n",
       "\n",
       "    .dataframe thead th {\n",
       "        text-align: left;\n",
       "    }\n",
       "\n",
       "    .dataframe tbody tr th {\n",
       "        vertical-align: top;\n",
       "    }\n",
       "</style>\n",
       "<table border=\"1\" class=\"dataframe\">\n",
       "  <thead>\n",
       "    <tr style=\"text-align: right;\">\n",
       "      <th></th>\n",
       "      <th>start</th>\n",
       "      <th>end</th>\n",
       "      <th>duration</th>\n",
       "      <th>section</th>\n",
       "      <th>description</th>\n",
       "    </tr>\n",
       "  </thead>\n",
       "  <tbody>\n",
       "    <tr>\n",
       "      <th>0</th>\n",
       "      <td>8:30</td>\n",
       "      <td>9:00</td>\n",
       "      <td>30 min</td>\n",
       "      <td>Registration</td>\n",
       "      <td>Code of Conduct</td>\n",
       "    </tr>\n",
       "    <tr>\n",
       "      <th>1</th>\n",
       "      <td>9:00</td>\n",
       "      <td>9:10</td>\n",
       "      <td>10 min</td>\n",
       "      <td>Open remarks</td>\n",
       "      <td>NaN</td>\n",
       "    </tr>\n",
       "    <tr>\n",
       "      <th>2</th>\n",
       "      <td>9:10</td>\n",
       "      <td>9:45</td>\n",
       "      <td>35 min</td>\n",
       "      <td>Panel Discussion</td>\n",
       "      <td>4 people</td>\n",
       "    </tr>\n",
       "    <tr>\n",
       "      <th>3</th>\n",
       "      <td>9:45</td>\n",
       "      <td>10:15</td>\n",
       "      <td>30 min</td>\n",
       "      <td>Jupyter Lab Walk Through</td>\n",
       "      <td>Tony Fast</td>\n",
       "    </tr>\n",
       "    <tr>\n",
       "      <th>4</th>\n",
       "      <td>9:45</td>\n",
       "      <td>10:15</td>\n",
       "      <td>30 min</td>\n",
       "      <td>Data Exploration in Jupyter</td>\n",
       "      <td>Raj Sivakumar &amp; Christian McDaniel</td>\n",
       "    </tr>\n",
       "    <tr>\n",
       "      <th>5</th>\n",
       "      <td>10:15</td>\n",
       "      <td>10:45</td>\n",
       "      <td>30 min</td>\n",
       "      <td>Flight Data in Jupyter</td>\n",
       "      <td>Luke Starnes</td>\n",
       "    </tr>\n",
       "    <tr>\n",
       "      <th>6</th>\n",
       "      <td>10:45</td>\n",
       "      <td>11:15</td>\n",
       "      <td>30 min</td>\n",
       "      <td>Style Guides for Jupyter</td>\n",
       "      <td>Tony Fast</td>\n",
       "    </tr>\n",
       "    <tr>\n",
       "      <th>7</th>\n",
       "      <td>11:15</td>\n",
       "      <td>11:30</td>\n",
       "      <td>15 min</td>\n",
       "      <td>Break</td>\n",
       "      <td>NaN</td>\n",
       "    </tr>\n",
       "    <tr>\n",
       "      <th>8</th>\n",
       "      <td>11:40</td>\n",
       "      <td>11:50</td>\n",
       "      <td>10 min</td>\n",
       "      <td>SQL with Jupyter Notebooksk</td>\n",
       "      <td>Greg Werner</td>\n",
       "    </tr>\n",
       "    <tr>\n",
       "      <th>9</th>\n",
       "      <td>12:05</td>\n",
       "      <td>12:20</td>\n",
       "      <td>15 min</td>\n",
       "      <td>Dynamic Notebook Generation for Reports</td>\n",
       "      <td>Casey Hartnett</td>\n",
       "    </tr>\n",
       "    <tr>\n",
       "      <th>10</th>\n",
       "      <td>12:20</td>\n",
       "      <td>12:40</td>\n",
       "      <td>20 min</td>\n",
       "      <td>Group Discussion</td>\n",
       "      <td>All</td>\n",
       "    </tr>\n",
       "    <tr>\n",
       "      <th>11</th>\n",
       "      <td>12:40</td>\n",
       "      <td>12:55</td>\n",
       "      <td>15 min</td>\n",
       "      <td>Tiny Talks</td>\n",
       "      <td>Whomever</td>\n",
       "    </tr>\n",
       "    <tr>\n",
       "      <th>12</th>\n",
       "      <td>12:55</td>\n",
       "      <td>1:00</td>\n",
       "      <td>5 min</td>\n",
       "      <td>Closing</td>\n",
       "      <td>Tony Fast</td>\n",
       "    </tr>\n",
       "  </tbody>\n",
       "</table>\n",
       "</div>"
      ],
      "text/plain": [
       "    start    end duration                                  section  \\\n",
       "0    8:30   9:00   30 min                             Registration   \n",
       "1    9:00   9:10   10 min                             Open remarks   \n",
       "2    9:10   9:45   35 min                         Panel Discussion   \n",
       "3    9:45  10:15   30 min                 Jupyter Lab Walk Through   \n",
       "4    9:45  10:15   30 min              Data Exploration in Jupyter   \n",
       "5   10:15  10:45   30 min                   Flight Data in Jupyter   \n",
       "6   10:45  11:15   30 min                 Style Guides for Jupyter   \n",
       "7   11:15  11:30   15 min                                    Break   \n",
       "8   11:40  11:50   10 min              SQL with Jupyter Notebooksk   \n",
       "9   12:05  12:20   15 min  Dynamic Notebook Generation for Reports   \n",
       "10  12:20  12:40   20 min                         Group Discussion   \n",
       "11  12:40  12:55   15 min                               Tiny Talks   \n",
       "12  12:55   1:00    5 min                                  Closing   \n",
       "\n",
       "                           description  \n",
       "0                      Code of Conduct  \n",
       "1                                  NaN  \n",
       "2                             4 people  \n",
       "3                            Tony Fast  \n",
       "4   Raj Sivakumar & Christian McDaniel  \n",
       "5                         Luke Starnes  \n",
       "6                            Tony Fast  \n",
       "7                                  NaN  \n",
       "8                          Greg Werner  \n",
       "9                       Casey Hartnett  \n",
       "10                                 All  \n",
       "11                            Whomever  \n",
       "12                           Tony Fast  "
      ]
     },
     "execution_count": 16,
     "metadata": {},
     "output_type": "execute_result"
    }
   ],
   "source": [
    "    \n",
    "    read_csv('schedule.csv')"
   ]
  },
  {
   "cell_type": "code",
   "execution_count": 17,
   "metadata": {
    "collapsed": true
   },
   "outputs": [
    {
     "data": {
      "text/markdown": [
       "\n",
       "# [contributing](contributing.ipynb)\n",
       "\n",
       "[![Build Status](https://travis-ci.org/callisto-morns/one.svg?branch=master)](https://travis-ci.org/callisto-morns/one)\n",
       "\n",
       "## [Submit questions and suggestions through the github issues](https://github.com/tonyfast/callistory/issues)\n",
       "\n",
       "We hope that community participation can assist future organizers in producing diy technology events.\n",
       "\n",
       "## Development\n",
       "\n",
       "* __[readme.ipynb](readme.ipynb)__ provides instruction for external services.\n",
       "* __[index.ipynb](readme.ipynb)__ the main event site.\n",
       "* __[about.ipynb](about.ipynb)__ provides information about the event.  Who what where when how why.\n",
       "* __[contributing.ipynb](about.ipynb)__ provides information about the event.  Who what where when how why.\n",
       "* __[talks.ipynb](long.ipynb)__ provides provides long format presentations information.\n",
       "\n",
       "# [Code of Conduct](code_of_conduct.md)\n"
      ],
      "text/plain": [
       "<IPython.core.display.Markdown object>"
      ]
     },
     "metadata": {},
     "output_type": "display_data"
    }
   ],
   "source": [
    "contributing.md"
   ]
  },
  {
   "cell_type": "code",
   "execution_count": 18,
   "metadata": {},
   "outputs": [
    {
     "data": {
      "text/markdown": [
       "<style>.highlighter-rouge {display: none;}</style>"
      ],
      "text/plain": [
       "<IPython.core.display.Markdown object>"
      ]
     },
     "metadata": {},
     "output_type": "display_data"
    }
   ],
   "source": [
    "<style>.highlighter-rouge {display: none;}</style>"
   ]
  },
  {
   "cell_type": "code",
   "execution_count": null,
   "metadata": {},
   "outputs": [],
   "source": []
  }
 ],
 "metadata": {
  "kernelspec": {
   "display_name": "Python 3",
   "language": "python",
   "name": "python3"
  },
  "language_info": {
   "codemirror_mode": {
    "name": "ipython",
    "version": 3
   },
   "file_extension": ".py",
   "mimetype": "text/x-python",
   "name": "python",
   "nbconvert_exporter": "python",
   "pygments_lexer": "ipython3",
   "version": "3.5.3"
  }
 },
 "nbformat": 4,
 "nbformat_minor": 2
}
