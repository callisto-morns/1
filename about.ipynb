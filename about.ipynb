{
 "cells": [
  {
   "cell_type": "markdown",
   "metadata": {},
   "source": [
    "# [Atlanta Jupyter User Group Meeting](https://callisto-morns.github.io/) [One](https://callisto-morns.github.io/)\n",
    "\n",
    "# <span>ATL x <img src=\"htttatlps://avatars3.githubusercontent.com/u/7388996?s=50&v=4\" style=\"display:inline-block;\"></img></span>\n",
    "\n",
    "## Saturday November 11, 2017 _@_ the Georgia Tech Research Institute\n",
    "\n",
    "__Atlanta Jupyter User Group Meeting__ is a satellite event orbitting the [Project Jupyter](https://jupyter.org).  At each __Atlanta Jupyter User Group Meeting__, Jupyter beginners and veterans will join to share their works.  These events will attract designers, developers, and scientists across the southeast region crafted with Project Jupyter tools.\n",
    "\n",
    "# Ticket Drop!\n",
    "\n",
    "## [Purchase Tickets at Eventbrite for $5](https://www.eventbrite.com/e/callisto-morn-one-an-event-for-jupyter-users-tickets-39268778975)\n",
    "\n",
    "> *Tickets on the day of the event are $10*\n",
    "\n",
    "## [Submit a Talk or Demo](https://docs.google.com/forms/d/e/1FAIpQLSfY1c4y2vLE-q3VMBjOpvTi4pK5D6Q9KudNk25AsxQUjsT3eA/viewform)\n",
    "\n",
    "\n",
    "## [Github](https://github.com/callisto-morns/one) \n",
    "\n",
    "\n",
    "## [Questions?](https://github.com/callisto-morns/one/issues) \n",
    "\n",
    "[![Gitter chat](https://badges.gitter.im/callisto-one/Lobby.png)](https://gitter.im/callisto-one/Lobby)\n",
    "\n",
    "---"
   ]
  },
  {
   "cell_type": "markdown",
   "metadata": {},
   "source": [
    "## Announcements\n",
    "\n",
    "{% for post in site.posts %}\n",
    "\n",
    "### [{{ post.title }}](one/{{ post.url }}) <small>{{post.date}}</small>\n",
    "\n",
    "> {{post.description}}\n",
    "\n",
    "{% endfor %}"
   ]
  }
 ],
 "metadata": {
  "kernelspec": {
   "display_name": "Python 3",
   "language": "python",
   "name": "python3"
  },
  "language_info": {
   "codemirror_mode": {
    "name": "ipython",
    "version": 3
   },
   "file_extension": ".py",
   "mimetype": "text/x-python",
   "name": "python",
   "nbconvert_exporter": "python",
   "pygments_lexer": "ipython3",
   "version": "3.5.3"
  }
 },
 "nbformat": 4,
 "nbformat_minor": 2
}
